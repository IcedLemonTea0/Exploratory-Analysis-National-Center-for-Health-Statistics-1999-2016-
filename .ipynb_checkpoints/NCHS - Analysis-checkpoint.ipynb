{
 "cells": [
  {
   "cell_type": "code",
   "execution_count": 1,
   "metadata": {},
   "outputs": [],
   "source": [
    "import pandas as pd\n",
    "import numpy as np"
   ]
  },
  {
   "cell_type": "code",
   "execution_count": 2,
   "metadata": {},
   "outputs": [],
   "source": [
    "df = pd.read_csv('NCHS_-_Leading_Causes_of_Death__United_States.csv')\n",
    "states = pd.read_csv('states.txt')\n"
   ]
  },
  {
   "cell_type": "code",
   "execution_count": 12,
   "metadata": {},
   "outputs": [
    {
     "data": {
      "text/html": [
       "<div>\n",
       "<style scoped>\n",
       "    .dataframe tbody tr th:only-of-type {\n",
       "        vertical-align: middle;\n",
       "    }\n",
       "\n",
       "    .dataframe tbody tr th {\n",
       "        vertical-align: top;\n",
       "    }\n",
       "\n",
       "    .dataframe thead th {\n",
       "        text-align: right;\n",
       "    }\n",
       "</style>\n",
       "<table border=\"1\" class=\"dataframe\">\n",
       "  <thead>\n",
       "    <tr style=\"text-align: right;\">\n",
       "      <th></th>\n",
       "      <th>Year</th>\n",
       "      <th>113 Cause Name</th>\n",
       "      <th>Cause Name</th>\n",
       "      <th>State</th>\n",
       "      <th>Deaths</th>\n",
       "      <th>Age-adjusted Death Rate</th>\n",
       "    </tr>\n",
       "  </thead>\n",
       "  <tbody>\n",
       "    <tr>\n",
       "      <th>0</th>\n",
       "      <td>2012</td>\n",
       "      <td>Nephritis, nephrotic syndrome and nephrosis (N...</td>\n",
       "      <td>Kidney disease</td>\n",
       "      <td>Vermont</td>\n",
       "      <td>21</td>\n",
       "      <td>2.6</td>\n",
       "    </tr>\n",
       "    <tr>\n",
       "      <th>1</th>\n",
       "      <td>2016</td>\n",
       "      <td>Nephritis, nephrotic syndrome and nephrosis (N...</td>\n",
       "      <td>Kidney disease</td>\n",
       "      <td>Vermont</td>\n",
       "      <td>30</td>\n",
       "      <td>3.7</td>\n",
       "    </tr>\n",
       "    <tr>\n",
       "      <th>2</th>\n",
       "      <td>2013</td>\n",
       "      <td>Nephritis, nephrotic syndrome and nephrosis (N...</td>\n",
       "      <td>Kidney disease</td>\n",
       "      <td>Vermont</td>\n",
       "      <td>30</td>\n",
       "      <td>3.8</td>\n",
       "    </tr>\n",
       "    <tr>\n",
       "      <th>3</th>\n",
       "      <td>2000</td>\n",
       "      <td>Intentional self-harm (suicide) (*U03,X60-X84,...</td>\n",
       "      <td>Suicide</td>\n",
       "      <td>District of Columbia</td>\n",
       "      <td>23</td>\n",
       "      <td>3.8</td>\n",
       "    </tr>\n",
       "    <tr>\n",
       "      <th>4</th>\n",
       "      <td>2014</td>\n",
       "      <td>Nephritis, nephrotic syndrome and nephrosis (N...</td>\n",
       "      <td>Kidney disease</td>\n",
       "      <td>Arizona</td>\n",
       "      <td>325</td>\n",
       "      <td>4.1</td>\n",
       "    </tr>\n",
       "  </tbody>\n",
       "</table>\n",
       "</div>"
      ],
      "text/plain": [
       "   Year                                     113 Cause Name      Cause Name  \\\n",
       "0  2012  Nephritis, nephrotic syndrome and nephrosis (N...  Kidney disease   \n",
       "1  2016  Nephritis, nephrotic syndrome and nephrosis (N...  Kidney disease   \n",
       "2  2013  Nephritis, nephrotic syndrome and nephrosis (N...  Kidney disease   \n",
       "3  2000  Intentional self-harm (suicide) (*U03,X60-X84,...         Suicide   \n",
       "4  2014  Nephritis, nephrotic syndrome and nephrosis (N...  Kidney disease   \n",
       "\n",
       "                  State  Deaths  Age-adjusted Death Rate  \n",
       "0               Vermont      21                      2.6  \n",
       "1               Vermont      30                      3.7  \n",
       "2               Vermont      30                      3.8  \n",
       "3  District of Columbia      23                      3.8  \n",
       "4               Arizona     325                      4.1  "
      ]
     },
     "execution_count": 12,
     "metadata": {},
     "output_type": "execute_result"
    }
   ],
   "source": [
    "df.head()"
   ]
  },
  {
   "cell_type": "markdown",
   "metadata": {},
   "source": [
    "Since we will be comparing states, it's important we analyze the state column"
   ]
  },
  {
   "cell_type": "code",
   "execution_count": 14,
   "metadata": {},
   "outputs": [
    {
     "name": "stdout",
     "output_type": "stream",
     "text": [
      "State values:  51\n",
      "Total states in USA:  51\n"
     ]
    }
   ],
   "source": [
    "state_val = []\n",
    "\n",
    "for state in df['State']:\n",
    "    \n",
    "    if state not in state_val:\n",
    "        state_val.append(state)\n",
    "        \n",
    "print('State values: ', len(state_val))\n",
    "print('Total states in USA: ',len(states))"
   ]
  },
  {
   "cell_type": "markdown",
   "metadata": {},
   "source": [
    "We realize that our datasets contains an additional state (total 52). We could leave it as it is. However, we want to avoid discrepancies later down our analysis thus it's better to **identify and rearrange** our datasets."
   ]
  },
  {
   "cell_type": "markdown",
   "metadata": {},
   "source": [
    "Identify that one state that is not a state"
   ]
  },
  {
   "cell_type": "code",
   "execution_count": 5,
   "metadata": {},
   "outputs": [
    {
     "name": "stdout",
     "output_type": "stream",
     "text": [
      "Not a state:  ['United States']\n"
     ]
    }
   ],
   "source": [
    "state_outlier = []\n",
    "enumerate_state = []\n",
    "\n",
    "for index,value in enumerate(states['State']):\n",
    "    enumerate_state.append(value)\n",
    "    \n",
    "for state in state_val:\n",
    "    if state not in enumerate_state:\n",
    "        state_outlier.append(state)\n",
    "        \n",
    "print('Not a state: ',state_outlier)\n"
   ]
  },
  {
   "cell_type": "markdown",
   "metadata": {},
   "source": [
    "So United States is not a state. We will modify the datasets that hides 'United States' as part of the state - showing only the states."
   ]
  },
  {
   "cell_type": "code",
   "execution_count": 9,
   "metadata": {},
   "outputs": [
    {
     "data": {
      "text/html": [
       "<div>\n",
       "<style scoped>\n",
       "    .dataframe tbody tr th:only-of-type {\n",
       "        vertical-align: middle;\n",
       "    }\n",
       "\n",
       "    .dataframe tbody tr th {\n",
       "        vertical-align: top;\n",
       "    }\n",
       "\n",
       "    .dataframe thead th {\n",
       "        text-align: right;\n",
       "    }\n",
       "</style>\n",
       "<table border=\"1\" class=\"dataframe\">\n",
       "  <thead>\n",
       "    <tr style=\"text-align: right;\">\n",
       "      <th></th>\n",
       "      <th>Year</th>\n",
       "      <th>113 Cause Name</th>\n",
       "      <th>Cause Name</th>\n",
       "      <th>State</th>\n",
       "      <th>Deaths</th>\n",
       "      <th>Age-adjusted Death Rate</th>\n",
       "    </tr>\n",
       "  </thead>\n",
       "  <tbody>\n",
       "    <tr>\n",
       "      <th>0</th>\n",
       "      <td>2012</td>\n",
       "      <td>Nephritis, nephrotic syndrome and nephrosis (N...</td>\n",
       "      <td>Kidney disease</td>\n",
       "      <td>Vermont</td>\n",
       "      <td>21</td>\n",
       "      <td>2.6</td>\n",
       "    </tr>\n",
       "    <tr>\n",
       "      <th>1</th>\n",
       "      <td>2016</td>\n",
       "      <td>Nephritis, nephrotic syndrome and nephrosis (N...</td>\n",
       "      <td>Kidney disease</td>\n",
       "      <td>Vermont</td>\n",
       "      <td>30</td>\n",
       "      <td>3.7</td>\n",
       "    </tr>\n",
       "    <tr>\n",
       "      <th>2</th>\n",
       "      <td>2013</td>\n",
       "      <td>Nephritis, nephrotic syndrome and nephrosis (N...</td>\n",
       "      <td>Kidney disease</td>\n",
       "      <td>Vermont</td>\n",
       "      <td>30</td>\n",
       "      <td>3.8</td>\n",
       "    </tr>\n",
       "    <tr>\n",
       "      <th>3</th>\n",
       "      <td>2000</td>\n",
       "      <td>Intentional self-harm (suicide) (*U03,X60-X84,...</td>\n",
       "      <td>Suicide</td>\n",
       "      <td>District of Columbia</td>\n",
       "      <td>23</td>\n",
       "      <td>3.8</td>\n",
       "    </tr>\n",
       "    <tr>\n",
       "      <th>4</th>\n",
       "      <td>2014</td>\n",
       "      <td>Nephritis, nephrotic syndrome and nephrosis (N...</td>\n",
       "      <td>Kidney disease</td>\n",
       "      <td>Arizona</td>\n",
       "      <td>325</td>\n",
       "      <td>4.1</td>\n",
       "    </tr>\n",
       "  </tbody>\n",
       "</table>\n",
       "</div>"
      ],
      "text/plain": [
       "   Year                                     113 Cause Name      Cause Name  \\\n",
       "0  2012  Nephritis, nephrotic syndrome and nephrosis (N...  Kidney disease   \n",
       "1  2016  Nephritis, nephrotic syndrome and nephrosis (N...  Kidney disease   \n",
       "2  2013  Nephritis, nephrotic syndrome and nephrosis (N...  Kidney disease   \n",
       "3  2000  Intentional self-harm (suicide) (*U03,X60-X84,...         Suicide   \n",
       "4  2014  Nephritis, nephrotic syndrome and nephrosis (N...  Kidney disease   \n",
       "\n",
       "                  State  Deaths  Age-adjusted Death Rate  \n",
       "0               Vermont      21                      2.6  \n",
       "1               Vermont      30                      3.7  \n",
       "2               Vermont      30                      3.8  \n",
       "3  District of Columbia      23                      3.8  \n",
       "4               Arizona     325                      4.1  "
      ]
     },
     "execution_count": 9,
     "metadata": {},
     "output_type": "execute_result"
    }
   ],
   "source": [
    "df = df[df['State']!= 'United States']\n",
    "df.head()"
   ]
  },
  {
   "cell_type": "markdown",
   "metadata": {},
   "source": [
    "Almost done. We need to add a new column called 'abbv_state' that abbreviates the state with respect to each row."
   ]
  },
  {
   "cell_type": "code",
   "execution_count": 81,
   "metadata": {},
   "outputs": [
    {
     "data": {
      "text/plain": [
       "{'State': 'Alaska', 'Abbv': 'AK'}"
      ]
     },
     "execution_count": 81,
     "metadata": {},
     "output_type": "execute_result"
    }
   ],
   "source": [
    "states_dict = []\n",
    "\n",
    "for index,row in enumerate(states,start=0):\n",
    "    states_dict = {'State': states['State'].iloc[index], 'Abbv':states['Abbreviation'].iloc[index]}\n",
    "    \n",
    "states_dict"
   ]
  },
  {
   "cell_type": "markdown",
   "metadata": {},
   "source": [
    "** The problem works but errors**\n",
    "1. It only works for Alaska\n",
    "2. It skipped Alabama\n",
    "3. Need to do for all state\n",
    "4. Suggestion, make a function"
   ]
  },
  {
   "cell_type": "code",
   "execution_count": null,
   "metadata": {},
   "outputs": [],
   "source": []
  }
 ],
 "metadata": {
  "kernelspec": {
   "display_name": "Python 3",
   "language": "python",
   "name": "python3"
  },
  "language_info": {
   "codemirror_mode": {
    "name": "ipython",
    "version": 3
   },
   "file_extension": ".py",
   "mimetype": "text/x-python",
   "name": "python",
   "nbconvert_exporter": "python",
   "pygments_lexer": "ipython3",
   "version": "3.7.3"
  }
 },
 "nbformat": 4,
 "nbformat_minor": 2
}
